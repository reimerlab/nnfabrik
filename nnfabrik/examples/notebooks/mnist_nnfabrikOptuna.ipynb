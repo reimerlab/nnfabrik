{
 "cells": [
  {
   "cell_type": "code",
   "execution_count": null,
   "id": "5eefe487-b56d-4e9a-902c-dda6b7905fee",
   "metadata": {},
   "outputs": [
    {
     "name": "stderr",
     "output_type": "stream",
     "text": [
      "[2025-05-13 01:40:11,097][INFO]: Connecting ming@172.17.0.1:3306\n",
      "[2025-05-13 01:40:11,103][INFO]: Connected ming@172.17.0.1:3306\n"
     ]
    }
   ],
   "source": [
    "from nnfabrik.examples.mnist_optuna.mnist_schema import *\n",
    "from nnfabrik.utility.hypersearch import nnfabrikOptuna\n",
    "import warnings\n",
    "warnings.filterwarnings('ignore')"
   ]
  },
  {
   "cell_type": "code",
   "execution_count": 2,
   "id": "2b5bf280-3d0b-44d9-a8c3-141cb1f11180",
   "metadata": {},
   "outputs": [],
   "source": [
    "fabrikant_info = dict(fabrikant_name=\"mhu\", email=\"zeitgeberH@github.com\", affiliation=\"Reimerlab\", dj_username=\"ming\")\n",
    "Fabrikant().insert1(fabrikant_info, skip_duplicates=True)"
   ]
  },
  {
   "cell_type": "markdown",
   "id": "c1ffe7e9-5c59-4b8b-9bc6-ad21e8ce28a8",
   "metadata": {},
   "source": [
    "## parts that are dynamic generated"
   ]
  },
  {
   "cell_type": "code",
   "execution_count": 3,
   "id": "fac552f5-904f-41d0-99bf-2a42f9203352",
   "metadata": {},
   "outputs": [],
   "source": [
    "Seed().insert([{'seed':0}], skip_duplicates=True) ## add more seeds to check model init stability"
   ]
  },
  {
   "cell_type": "markdown",
   "id": "caacc687-59ed-40c0-821b-bc8e73e6f6c0",
   "metadata": {},
   "source": [
    "### Dataset"
   ]
  },
  {
   "cell_type": "code",
   "execution_count": null,
   "id": "a8db6414-dc14-4edc-8fdb-b568a6a183d8",
   "metadata": {},
   "outputs": [],
   "source": [
    "dataset_fn = \"../mnist_Optuna.dataset.mnist_dataset_fn\"\n",
    "dataset_config = dict(batch_size=10) \n",
    "dataset_config_tune = {} # nothing to tune"
   ]
  },
  {
   "cell_type": "markdown",
   "id": "9ef87768-2153-43dc-a603-0db06be1ed38",
   "metadata": {},
   "source": [
    "### Model"
   ]
  },
  {
   "cell_type": "code",
   "execution_count": null,
   "id": "f9fd0eef-cdb3-4088-b2ed-985c82be4e75",
   "metadata": {},
   "outputs": [],
   "source": [
    "model_fn = \"../mnist_Optuna.model.mnist_model_fn\"\n",
    "## parameters fixed for this study\n",
    "model_config = {}\n",
    "\n",
    "## parameters to be tuned\n",
    "model_config_tune = {\n",
    "    \"h_dim\": {\n",
    "        \"method\": \"suggest_int\",\n",
    "        \"args\": {\"name\": \"hidden_dimension\", \"low\": 2, \"high\": 5},\n",
    "    }\n",
    "}"
   ]
  },
  {
   "cell_type": "markdown",
   "id": "05ae203b-4bde-4659-b008-8fee2228ad6b",
   "metadata": {},
   "source": [
    "### Trainer"
   ]
  },
  {
   "cell_type": "code",
   "execution_count": null,
   "id": "36a19029-3562-4646-934b-9efff667d664",
   "metadata": {},
   "outputs": [],
   "source": [
    "# specify trainer function as string (the function must be importable) as well as the trainer config\n",
    "trainer_fn = \"../mnist_Optuna.trainer.mnist_trainer_fn\"\n",
    "trainer_config = dict(epochs=8) \n",
    "trainer_config_tune =    {\n",
    "    \"lr\": {\n",
    "        \"method\": \"suggest_float\",\n",
    "        \"args\": {\"name\": \"learning_rate\", \"low\": 1e-4, \"high\": 1e-1, \"log\": True},\n",
    "    }\n",
    "}"
   ]
  },
  {
   "cell_type": "markdown",
   "id": "7636eb5c-0f9e-412f-b717-bce700fdd87b",
   "metadata": {},
   "source": [
    "## Configure Optuna study with nnfabrik as backend"
   ]
  },
  {
   "cell_type": "code",
   "execution_count": 7,
   "id": "44559b06-fcae-4097-bfa4-809be2da0993",
   "metadata": {},
   "outputs": [],
   "source": [
    "study_config = dict(direction=\"maximize\",study_name=\"Mnist_nnfabrik_Optuna\")\n",
    "opt_config = dict(n_trials=5, timeout=600, # in seconds\n",
    "                 gc_after_trial  = True, show_progress_bar = True)"
   ]
  },
  {
   "cell_type": "code",
   "execution_count": 8,
   "id": "d006830a-b41e-4ade-832e-995031ac78c3",
   "metadata": {},
   "outputs": [],
   "source": [
    "gps_study = nnfabrikOptuna(\n",
    "        optuna_study_config = study_config, # optuna study related configurations\n",
    "        optuna_optimization_config = opt_config , # optuna optimization related configurations\n",
    "        dataset_fn = dataset_fn,\n",
    "        dataset_config = dataset_config, # dictionary of fixed arguments for dataset function\n",
    "        dataset_config_tune = dataset_config_tune, # dictionary of arguments for dataset function that are to be optimized\n",
    "        model_fn = model_fn,\n",
    "        model_config = model_config,\n",
    "        model_config_tune = model_config_tune,\n",
    "        trainer_fn= trainer_fn,\n",
    "        trainer_config = trainer_config,\n",
    "        trainer_config_tune = trainer_config_tune,\n",
    "        architect = 'mhu',\n",
    "        trained_model_table = \"mnist_nnfabrikOptuna.mnist_schema.TrainedModel\")"
   ]
  },
  {
   "cell_type": "markdown",
   "id": "fdc89889-376b-4345-833a-0c1ecea04a84",
   "metadata": {},
   "source": [
    "## Run"
   ]
  },
  {
   "cell_type": "code",
   "execution_count": 9,
   "id": "7075ca69-f39e-4b32-b2b9-8cfe1be6f7a1",
   "metadata": {},
   "outputs": [
    {
     "name": "stderr",
     "output_type": "stream",
     "text": [
      "[I 2025-05-13 01:40:11,607] A new study created in memory with name: Mnist_nnfabrik_Optuna\n"
     ]
    },
    {
     "data": {
      "application/vnd.jupyter.widget-view+json": {
       "model_id": "6e97134616e94505a3de0b872eb177c6",
       "version_major": 2,
       "version_minor": 0
      },
      "text/plain": [
       "  0%|          | 0/5 [00:00<?, ?it/s]"
      ]
     },
     "metadata": {},
     "output_type": "display_data"
    },
    {
     "name": "stderr",
     "output_type": "stream",
     "text": [
      "100%|██████████| 6000/6000 [00:07<00:00, 808.85it/s]\n",
      "100%|██████████| 6000/6000 [00:07<00:00, 760.77it/s]\n",
      "100%|██████████| 6000/6000 [00:06<00:00, 905.40it/s] \n",
      "100%|██████████| 6000/6000 [00:06<00:00, 883.27it/s] \n",
      "100%|██████████| 6000/6000 [00:06<00:00, 883.07it/s]\n",
      "100%|██████████| 6000/6000 [00:06<00:00, 880.82it/s] \n",
      "100%|██████████| 6000/6000 [00:08<00:00, 744.48it/s]\n",
      "100%|██████████| 6000/6000 [00:06<00:00, 891.19it/s] \n"
     ]
    },
    {
     "name": "stdout",
     "output_type": "stream",
     "text": [
      "[I 2025-05-13 01:41:09,359] Trial 0 finished with value: 79.4417 and parameters: {'hidden_dimension': 4, 'learning_rate': 0.0005207368317782651}. Best is trial 0 with value: 79.4417.\n"
     ]
    },
    {
     "name": "stderr",
     "output_type": "stream",
     "text": [
      "100%|██████████| 6000/6000 [00:06<00:00, 891.42it/s]\n",
      "100%|██████████| 6000/6000 [00:07<00:00, 843.03it/s]\n",
      "100%|██████████| 6000/6000 [00:08<00:00, 732.62it/s]\n",
      "100%|██████████| 6000/6000 [00:07<00:00, 835.80it/s]\n",
      "100%|██████████| 6000/6000 [00:07<00:00, 808.43it/s]\n",
      "100%|██████████| 6000/6000 [00:06<00:00, 868.96it/s]\n",
      "100%|██████████| 6000/6000 [00:07<00:00, 840.12it/s]\n",
      "100%|██████████| 6000/6000 [00:08<00:00, 711.47it/s]\n"
     ]
    },
    {
     "name": "stdout",
     "output_type": "stream",
     "text": [
      "[I 2025-05-13 01:42:08,665] Trial 1 finished with value: 67.5033 and parameters: {'hidden_dimension': 4, 'learning_rate': 0.002007550302397372}. Best is trial 0 with value: 79.4417.\n"
     ]
    },
    {
     "name": "stderr",
     "output_type": "stream",
     "text": [
      "100%|██████████| 6000/6000 [00:06<00:00, 881.76it/s] \n",
      "100%|██████████| 6000/6000 [00:06<00:00, 875.38it/s]\n",
      "100%|██████████| 6000/6000 [00:06<00:00, 866.02it/s]\n",
      "100%|██████████| 6000/6000 [00:06<00:00, 901.84it/s] \n",
      "100%|██████████| 6000/6000 [00:07<00:00, 769.68it/s] \n",
      "100%|██████████| 6000/6000 [00:06<00:00, 890.38it/s] \n",
      "100%|██████████| 6000/6000 [00:06<00:00, 890.45it/s] \n",
      "100%|██████████| 6000/6000 [00:06<00:00, 883.11it/s] \n"
     ]
    },
    {
     "name": "stdout",
     "output_type": "stream",
     "text": [
      "[I 2025-05-13 01:43:04,154] Trial 2 finished with value: 87.2767 and parameters: {'hidden_dimension': 5, 'learning_rate': 0.0001108044959786936}. Best is trial 2 with value: 87.2767.\n"
     ]
    },
    {
     "name": "stderr",
     "output_type": "stream",
     "text": [
      "100%|██████████| 6000/6000 [00:08<00:00, 748.24it/s] \n",
      "100%|██████████| 6000/6000 [00:06<00:00, 914.85it/s]\n",
      "100%|██████████| 6000/6000 [00:06<00:00, 876.56it/s] \n",
      "100%|██████████| 6000/6000 [00:07<00:00, 830.27it/s]\n",
      "100%|██████████| 6000/6000 [00:07<00:00, 849.66it/s]\n",
      "100%|██████████| 6000/6000 [00:07<00:00, 752.23it/s]\n",
      "100%|██████████| 6000/6000 [00:06<00:00, 863.12it/s] \n",
      "100%|██████████| 6000/6000 [00:06<00:00, 872.33it/s]\n"
     ]
    },
    {
     "name": "stdout",
     "output_type": "stream",
     "text": [
      "[I 2025-05-13 01:44:01,856] Trial 3 finished with value: 78.94 and parameters: {'hidden_dimension': 5, 'learning_rate': 0.004789741139821931}. Best is trial 2 with value: 87.2767.\n"
     ]
    },
    {
     "name": "stderr",
     "output_type": "stream",
     "text": [
      "100%|██████████| 6000/6000 [00:06<00:00, 908.48it/s] \n",
      "100%|██████████| 6000/6000 [00:06<00:00, 864.85it/s]\n",
      "100%|██████████| 6000/6000 [00:07<00:00, 763.39it/s] \n",
      "100%|██████████| 6000/6000 [00:07<00:00, 857.01it/s]\n",
      "100%|██████████| 6000/6000 [00:06<00:00, 887.84it/s] \n",
      "100%|██████████| 6000/6000 [00:07<00:00, 842.28it/s] \n",
      "100%|██████████| 6000/6000 [00:07<00:00, 769.31it/s]\n",
      "100%|██████████| 6000/6000 [00:06<00:00, 862.87it/s]\n"
     ]
    },
    {
     "name": "stdout",
     "output_type": "stream",
     "text": [
      "[I 2025-05-13 01:44:59,081] Trial 4 finished with value: 29.7933 and parameters: {'hidden_dimension': 2, 'learning_rate': 0.013029266858441578}. Best is trial 2 with value: 87.2767.\n",
      "Study statistics: \n",
      "  Number of finished trials:  5\n",
      "  Number of pruned trials:  0\n",
      "  Number of complete trials:  5\n",
      "Best trial:\n",
      "  Best score:  87.2767\n",
      "  Params: \n",
      "    hidden_dimension: 5\n",
      "    learning_rate: 0.0001108044959786936\n"
     ]
    }
   ],
   "source": [
    "study, best_trial = gps_study.run()"
   ]
  },
  {
   "cell_type": "markdown",
   "id": "d4e78961-365e-437e-a6f3-ecb9c54a3571",
   "metadata": {},
   "source": [
    "## Explore results"
   ]
  },
  {
   "cell_type": "code",
   "execution_count": 11,
   "id": "da7fbaf9-439e-4d11-bcc9-c899e6cb6f32",
   "metadata": {},
   "outputs": [
    {
     "name": "stdout",
     "output_type": "stream",
     "text": [
      "Pruner: <optuna.pruners._median.MedianPruner object at 0x7fbdb4c04c10>\n",
      "Direction: StudyDirection.MAXIMIZE\n",
      "Sampler: TPESampler\n"
     ]
    }
   ],
   "source": [
    "print(\"Pruner:\", study.pruner)\n",
    "print(\"Direction:\", study.direction)\n",
    "print(\"Sampler:\", study.sampler)"
   ]
  },
  {
   "cell_type": "code",
   "execution_count": 12,
   "id": "a5f30f19-4583-49d5-97d5-064add860078",
   "metadata": {},
   "outputs": [
    {
     "name": "stdout",
     "output_type": "stream",
     "text": [
      "Total trials: 5\n",
      "Completed trials: 5\n",
      "Pruned trials: 0\n",
      "Failed trials: 0\n",
      "Best trial\n"
     ]
    },
    {
     "data": {
      "text/plain": [
       "FrozenTrial(number=2, state=TrialState.COMPLETE, values=[87.2767], datetime_start=datetime.datetime(2025, 5, 13, 1, 42, 8, 767442), datetime_complete=datetime.datetime(2025, 5, 13, 1, 43, 4, 154359), params={'hidden_dimension': 5, 'learning_rate': 0.0001108044959786936}, user_attrs={'trial_restriction': ('dataset_fn in (\"mnist_nnfabrikOptuna.dataset.mnist_dataset_fn\")', 'dataset_hash in (\"1fb52248b88880405ed4585ebd69e1f9\")', 'model_fn in (\"mnist_nnfabrikOptuna.model.mnist_model_fn\")', 'model_hash in (\"24922759b843076328c4f3b9df3f88d0\")', 'trainer_fn in (\"mnist_nnfabrikOptuna.trainer.mnist_trainer_fn\")', 'trainer_hash in (\"29c74834523e7be9d79259976a28cc63\")')}, system_attrs={}, intermediate_values={}, distributions={'hidden_dimension': IntDistribution(high=5, log=False, low=2, step=1), 'learning_rate': FloatDistribution(high=0.1, log=True, low=0.0001, step=None)}, trial_id=2, value=None)"
      ]
     },
     "execution_count": 12,
     "metadata": {},
     "output_type": "execute_result"
    }
   ],
   "source": [
    "from optuna.trial import TrialState\n",
    "\n",
    "all_trials = study.trials\n",
    "completed = [t for t in all_trials if t.state == TrialState.COMPLETE]\n",
    "pruned = [t for t in all_trials if t.state == TrialState.PRUNED]\n",
    "failed = [t for t in all_trials if t.state == TrialState.FAIL]\n",
    "\n",
    "print(f\"Total trials: {len(all_trials)}\")\n",
    "print(f\"Completed trials: {len(completed)}\")\n",
    "print(f\"Pruned trials: {len(pruned)}\")\n",
    "print(f\"Failed trials: {len(failed)}\")\n",
    "\n",
    "for t in pruned:\n",
    "    print(f\"Trial {t.number} was pruned. Intermediate values: {t.intermediate_values}\")\n",
    "for t in failed:\n",
    "    print(f\"Trial {t.number} failed. Error: {t.system_attrs.get('fail_reason')}\")\n",
    "print('Best trial')\n",
    "study.best_trial"
   ]
  },
  {
   "cell_type": "code",
   "execution_count": 13,
   "id": "ac629e00-b02c-4deb-b8ad-92a5f24822a3",
   "metadata": {
    "scrolled": true
   },
   "outputs": [
    {
     "data": {
      "text/html": [
       "\n",
       "    \n",
       "    <style type=\"text/css\">\n",
       "        .Table{\n",
       "            border-collapse:collapse;\n",
       "        }\n",
       "        .Table th{\n",
       "            background: #A0A0A0; color: #ffffff; padding:4px; border:#f0e0e0 1px solid;\n",
       "            font-weight: normal; font-family: monospace; font-size: 100%;\n",
       "        }\n",
       "        .Table td{\n",
       "            padding:4px; border:#f0e0e0 1px solid; font-size:100%;\n",
       "        }\n",
       "        .Table tr:nth-child(odd){\n",
       "            background: #ffffff;\n",
       "            color: #000000;\n",
       "        }\n",
       "        .Table tr:nth-child(even){\n",
       "            background: #f3f1ff;\n",
       "            color: #000000;\n",
       "        }\n",
       "        /* Tooltip container */\n",
       "        .djtooltip {\n",
       "        }\n",
       "        /* Tooltip text */\n",
       "        .djtooltip .djtooltiptext {\n",
       "            visibility: hidden;\n",
       "            width: 120px;\n",
       "            background-color: black;\n",
       "            color: #fff;\n",
       "            text-align: center;\n",
       "            padding: 5px 0;\n",
       "            border-radius: 6px;\n",
       "            /* Position the tooltip text - see examples below! */\n",
       "            position: absolute;\n",
       "            z-index: 1;\n",
       "        }\n",
       "        #primary {\n",
       "            font-weight: bold;\n",
       "            color: black;\n",
       "        }\n",
       "        #nonprimary {\n",
       "            font-weight: normal;\n",
       "            color: white;\n",
       "        }\n",
       "\n",
       "        /* Show the tooltip text when you mouse over the tooltip container */\n",
       "        .djtooltip:hover .djtooltiptext {\n",
       "            visibility: visible;\n",
       "        }\n",
       "    </style>\n",
       "    \n",
       "    <b>mnist trained models with extra tuna</b>\n",
       "        <div style=\"max-height:1000px;max-width:1500px;overflow:auto;\">\n",
       "        <table border=\"1\" class=\"Table\">\n",
       "            <thead> <tr style=\"text-align: right;\"> <th> <div class=\"djtooltip\">\n",
       "                            <p id=\"primary\">model_fn</p>\n",
       "                            <span class=\"djtooltiptext\">name of the model function</span>\n",
       "                        </div></th><th><div class=\"djtooltip\">\n",
       "                            <p id=\"primary\">model_hash</p>\n",
       "                            <span class=\"djtooltiptext\">hash of the model configuration</span>\n",
       "                        </div></th><th><div class=\"djtooltip\">\n",
       "                            <p id=\"primary\">dataset_fn</p>\n",
       "                            <span class=\"djtooltiptext\">name of the dataset loader function</span>\n",
       "                        </div></th><th><div class=\"djtooltip\">\n",
       "                            <p id=\"primary\">dataset_hash</p>\n",
       "                            <span class=\"djtooltiptext\">hash of the configuration object</span>\n",
       "                        </div></th><th><div class=\"djtooltip\">\n",
       "                            <p id=\"primary\">trainer_fn</p>\n",
       "                            <span class=\"djtooltiptext\">name of the Trainer loader function</span>\n",
       "                        </div></th><th><div class=\"djtooltip\">\n",
       "                            <p id=\"primary\">trainer_hash</p>\n",
       "                            <span class=\"djtooltiptext\">hash of the configuration object</span>\n",
       "                        </div></th><th><div class=\"djtooltip\">\n",
       "                            <p id=\"primary\">seed</p>\n",
       "                            <span class=\"djtooltiptext\">Random seed that is passed to the model- and dataset-builder</span>\n",
       "                        </div></th><th><div class=\"djtooltip\">\n",
       "                            <p id=\"nonprimary\">comment</p>\n",
       "                            <span class=\"djtooltiptext\">short description</span>\n",
       "                        </div></th><th><div class=\"djtooltip\">\n",
       "                            <p id=\"nonprimary\">score</p>\n",
       "                            <span class=\"djtooltiptext\">loss</span>\n",
       "                        </div></th><th><div class=\"djtooltip\">\n",
       "                            <p id=\"nonprimary\">output</p>\n",
       "                            <span class=\"djtooltiptext\">trainer object's output</span>\n",
       "                        </div></th><th><div class=\"djtooltip\">\n",
       "                            <p id=\"nonprimary\">fabrikant_name</p>\n",
       "                            <span class=\"djtooltiptext\">Name of the contributor that added this entry</span>\n",
       "                        </div></th><th><div class=\"djtooltip\">\n",
       "                            <p id=\"nonprimary\">optuna_trial_number</p>\n",
       "                            <span class=\"djtooltiptext\">optuna trial id</span>\n",
       "                        </div></th><th><div class=\"djtooltip\">\n",
       "                            <p id=\"nonprimary\">optuna_trial_state</p>\n",
       "                            <span class=\"djtooltiptext\">optuna trial state</span>\n",
       "                        </div></th><th><div class=\"djtooltip\">\n",
       "                            <p id=\"nonprimary\">trainedmodel_ts</p>\n",
       "                            <span class=\"djtooltiptext\">UTZ timestamp at time of insertion</span>\n",
       "                        </div> </th> </tr> </thead>\n",
       "            <tbody> <tr> <td>mnist_nnfabrikOptuna.model.mnist_model_fn</td>\n",
       "<td>24922759b843076328c4f3b9df3f88d0</td>\n",
       "<td>mnist_nnfabrikOptuna.dataset.mnist_dataset_fn</td>\n",
       "<td>1fb52248b88880405ed4585ebd69e1f9</td>\n",
       "<td>mnist_nnfabrikOptuna.trainer.mnist_trainer_fn</td>\n",
       "<td>1eb5efb8f09fb69363d0286441c01bbe</td>\n",
       "<td>0</td>\n",
       "<td>lr.0.004789741139821931.h_dim.5.</td>\n",
       "<td>78.94</td>\n",
       "<td>=BLOB=</td>\n",
       "<td>mhu</td>\n",
       "<td>3</td>\n",
       "<td>TrialState.COMPLETE</td>\n",
       "<td>2025-05-12 20:44:01</td></tr><tr><td>mnist_nnfabrikOptuna.model.mnist_model_fn</td>\n",
       "<td>24922759b843076328c4f3b9df3f88d0</td>\n",
       "<td>mnist_nnfabrikOptuna.dataset.mnist_dataset_fn</td>\n",
       "<td>1fb52248b88880405ed4585ebd69e1f9</td>\n",
       "<td>mnist_nnfabrikOptuna.trainer.mnist_trainer_fn</td>\n",
       "<td>29c74834523e7be9d79259976a28cc63</td>\n",
       "<td>0</td>\n",
       "<td>lr.0.0001108044959786936.h_dim.5.</td>\n",
       "<td>87.2767</td>\n",
       "<td>=BLOB=</td>\n",
       "<td>mhu</td>\n",
       "<td>2</td>\n",
       "<td>TrialState.COMPLETE</td>\n",
       "<td>2025-05-12 20:43:04</td></tr><tr><td>mnist_nnfabrikOptuna.model.mnist_model_fn</td>\n",
       "<td>34430fcc4550a45abd804e09cabe99bb</td>\n",
       "<td>mnist_nnfabrikOptuna.dataset.mnist_dataset_fn</td>\n",
       "<td>1fb52248b88880405ed4585ebd69e1f9</td>\n",
       "<td>mnist_nnfabrikOptuna.trainer.mnist_trainer_fn</td>\n",
       "<td>457c6b8358a5e212adb2997b26247074</td>\n",
       "<td>0</td>\n",
       "<td>lr.0.002007550302397372.h_dim.4.</td>\n",
       "<td>67.5033</td>\n",
       "<td>=BLOB=</td>\n",
       "<td>mhu</td>\n",
       "<td>1</td>\n",
       "<td>TrialState.COMPLETE</td>\n",
       "<td>2025-05-12 20:42:08</td></tr><tr><td>mnist_nnfabrikOptuna.model.mnist_model_fn</td>\n",
       "<td>34430fcc4550a45abd804e09cabe99bb</td>\n",
       "<td>mnist_nnfabrikOptuna.dataset.mnist_dataset_fn</td>\n",
       "<td>1fb52248b88880405ed4585ebd69e1f9</td>\n",
       "<td>mnist_nnfabrikOptuna.trainer.mnist_trainer_fn</td>\n",
       "<td>ffda8ec6f9507d64bdc697ad8076a352</td>\n",
       "<td>0</td>\n",
       "<td>lr.0.0005207368317782651.h_dim.4.</td>\n",
       "<td>79.4417</td>\n",
       "<td>=BLOB=</td>\n",
       "<td>mhu</td>\n",
       "<td>0</td>\n",
       "<td>TrialState.COMPLETE</td>\n",
       "<td>2025-05-12 20:41:09</td></tr><tr><td>mnist_nnfabrikOptuna.model.mnist_model_fn</td>\n",
       "<td>bf9f10ac4ebcfe76048e4a2380899156</td>\n",
       "<td>mnist_nnfabrikOptuna.dataset.mnist_dataset_fn</td>\n",
       "<td>1fb52248b88880405ed4585ebd69e1f9</td>\n",
       "<td>mnist_nnfabrikOptuna.trainer.mnist_trainer_fn</td>\n",
       "<td>06232c33f0413b49df1085e426ba373b</td>\n",
       "<td>0</td>\n",
       "<td>lr.0.013029266858441578.h_dim.2.</td>\n",
       "<td>29.7933</td>\n",
       "<td>=BLOB=</td>\n",
       "<td>mhu</td>\n",
       "<td>4</td>\n",
       "<td>TrialState.COMPLETE</td>\n",
       "<td>2025-05-12 20:44:59</td> </tr> </tbody>\n",
       "        </table>\n",
       "        \n",
       "        <p>Total: 5</p></div>\n",
       "        "
      ],
      "text/plain": [
       "*model_fn      *model_hash    *dataset_fn    *dataset_hash  *trainer_fn    *trainer_hash  *seed    comment        score       output     fabrikant_name optuna_trial_n optuna_trial_s trainedmodel_t\n",
       "+------------+ +------------+ +------------+ +------------+ +------------+ +------------+ +------+ +------------+ +---------+ +--------+ +------------+ +------------+ +------------+ +------------+\n",
       "mnist_nnfabrik 24922759b84307 mnist_nnfabrik 1fb52248b88880 mnist_nnfabrik 1eb5efb8f09fb6 0        lr.0.004789741 78.94       =BLOB=     mhu            3              TrialState.COM 2025-05-12 20:\n",
       "mnist_nnfabrik 24922759b84307 mnist_nnfabrik 1fb52248b88880 mnist_nnfabrik 29c74834523e7b 0        lr.0.000110804 87.2767     =BLOB=     mhu            2              TrialState.COM 2025-05-12 20:\n",
       "mnist_nnfabrik 34430fcc4550a4 mnist_nnfabrik 1fb52248b88880 mnist_nnfabrik 457c6b8358a5e2 0        lr.0.002007550 67.5033     =BLOB=     mhu            1              TrialState.COM 2025-05-12 20:\n",
       "mnist_nnfabrik 34430fcc4550a4 mnist_nnfabrik 1fb52248b88880 mnist_nnfabrik ffda8ec6f9507d 0        lr.0.000520736 79.4417     =BLOB=     mhu            0              TrialState.COM 2025-05-12 20:\n",
       "mnist_nnfabrik bf9f10ac4ebcfe mnist_nnfabrik 1fb52248b88880 mnist_nnfabrik 06232c33f0413b 0        lr.0.013029266 29.7933     =BLOB=     mhu            4              TrialState.COM 2025-05-12 20:\n",
       " (Total: 5)"
      ]
     },
     "execution_count": 13,
     "metadata": {},
     "output_type": "execute_result"
    }
   ],
   "source": [
    "TrainedModel()"
   ]
  },
  {
   "cell_type": "code",
   "execution_count": 14,
   "id": "cbbfd161-4127-46b9-9625-f4d2e1be6e94",
   "metadata": {},
   "outputs": [
    {
     "data": {
      "text/html": [
       "<div>\n",
       "<style scoped>\n",
       "    .dataframe tbody tr th:only-of-type {\n",
       "        vertical-align: middle;\n",
       "    }\n",
       "\n",
       "    .dataframe tbody tr th {\n",
       "        vertical-align: top;\n",
       "    }\n",
       "\n",
       "    .dataframe thead th {\n",
       "        text-align: right;\n",
       "    }\n",
       "</style>\n",
       "<table border=\"1\" class=\"dataframe\">\n",
       "  <thead>\n",
       "    <tr style=\"text-align: right;\">\n",
       "      <th></th>\n",
       "      <th>number</th>\n",
       "      <th>value</th>\n",
       "      <th>datetime_start</th>\n",
       "      <th>datetime_complete</th>\n",
       "      <th>duration</th>\n",
       "      <th>params_hidden_dimension</th>\n",
       "      <th>params_learning_rate</th>\n",
       "      <th>user_attrs_trial_restriction</th>\n",
       "      <th>state</th>\n",
       "    </tr>\n",
       "  </thead>\n",
       "  <tbody>\n",
       "    <tr>\n",
       "      <th>0</th>\n",
       "      <td>0</td>\n",
       "      <td>79.4417</td>\n",
       "      <td>2025-05-13 01:40:11.612847</td>\n",
       "      <td>2025-05-13 01:41:09.359005</td>\n",
       "      <td>0 days 00:00:57.746158</td>\n",
       "      <td>4</td>\n",
       "      <td>0.000521</td>\n",
       "      <td>(dataset_fn in (\"mnist_nnfabrikOptuna.dataset....</td>\n",
       "      <td>COMPLETE</td>\n",
       "    </tr>\n",
       "    <tr>\n",
       "      <th>1</th>\n",
       "      <td>1</td>\n",
       "      <td>67.5033</td>\n",
       "      <td>2025-05-13 01:41:09.469907</td>\n",
       "      <td>2025-05-13 01:42:08.665372</td>\n",
       "      <td>0 days 00:00:59.195465</td>\n",
       "      <td>4</td>\n",
       "      <td>0.002008</td>\n",
       "      <td>(dataset_fn in (\"mnist_nnfabrikOptuna.dataset....</td>\n",
       "      <td>COMPLETE</td>\n",
       "    </tr>\n",
       "    <tr>\n",
       "      <th>2</th>\n",
       "      <td>2</td>\n",
       "      <td>87.2767</td>\n",
       "      <td>2025-05-13 01:42:08.767442</td>\n",
       "      <td>2025-05-13 01:43:04.154359</td>\n",
       "      <td>0 days 00:00:55.386917</td>\n",
       "      <td>5</td>\n",
       "      <td>0.000111</td>\n",
       "      <td>(dataset_fn in (\"mnist_nnfabrikOptuna.dataset....</td>\n",
       "      <td>COMPLETE</td>\n",
       "    </tr>\n",
       "    <tr>\n",
       "      <th>3</th>\n",
       "      <td>3</td>\n",
       "      <td>78.9400</td>\n",
       "      <td>2025-05-13 01:43:04.263277</td>\n",
       "      <td>2025-05-13 01:44:01.856695</td>\n",
       "      <td>0 days 00:00:57.593418</td>\n",
       "      <td>5</td>\n",
       "      <td>0.004790</td>\n",
       "      <td>(dataset_fn in (\"mnist_nnfabrikOptuna.dataset....</td>\n",
       "      <td>COMPLETE</td>\n",
       "    </tr>\n",
       "    <tr>\n",
       "      <th>4</th>\n",
       "      <td>4</td>\n",
       "      <td>29.7933</td>\n",
       "      <td>2025-05-13 01:44:01.965247</td>\n",
       "      <td>2025-05-13 01:44:59.081246</td>\n",
       "      <td>0 days 00:00:57.115999</td>\n",
       "      <td>2</td>\n",
       "      <td>0.013029</td>\n",
       "      <td>(dataset_fn in (\"mnist_nnfabrikOptuna.dataset....</td>\n",
       "      <td>COMPLETE</td>\n",
       "    </tr>\n",
       "  </tbody>\n",
       "</table>\n",
       "</div>"
      ],
      "text/plain": [
       "   number    value             datetime_start          datetime_complete  \\\n",
       "0       0  79.4417 2025-05-13 01:40:11.612847 2025-05-13 01:41:09.359005   \n",
       "1       1  67.5033 2025-05-13 01:41:09.469907 2025-05-13 01:42:08.665372   \n",
       "2       2  87.2767 2025-05-13 01:42:08.767442 2025-05-13 01:43:04.154359   \n",
       "3       3  78.9400 2025-05-13 01:43:04.263277 2025-05-13 01:44:01.856695   \n",
       "4       4  29.7933 2025-05-13 01:44:01.965247 2025-05-13 01:44:59.081246   \n",
       "\n",
       "                duration  params_hidden_dimension  params_learning_rate  \\\n",
       "0 0 days 00:00:57.746158                        4              0.000521   \n",
       "1 0 days 00:00:59.195465                        4              0.002008   \n",
       "2 0 days 00:00:55.386917                        5              0.000111   \n",
       "3 0 days 00:00:57.593418                        5              0.004790   \n",
       "4 0 days 00:00:57.115999                        2              0.013029   \n",
       "\n",
       "                        user_attrs_trial_restriction     state  \n",
       "0  (dataset_fn in (\"mnist_nnfabrikOptuna.dataset....  COMPLETE  \n",
       "1  (dataset_fn in (\"mnist_nnfabrikOptuna.dataset....  COMPLETE  \n",
       "2  (dataset_fn in (\"mnist_nnfabrikOptuna.dataset....  COMPLETE  \n",
       "3  (dataset_fn in (\"mnist_nnfabrikOptuna.dataset....  COMPLETE  \n",
       "4  (dataset_fn in (\"mnist_nnfabrikOptuna.dataset....  COMPLETE  "
      ]
     },
     "execution_count": 14,
     "metadata": {},
     "output_type": "execute_result"
    }
   ],
   "source": [
    "study.trials_dataframe()"
   ]
  },
  {
   "cell_type": "code",
   "execution_count": 25,
   "id": "a19d0414-2a9b-4661-9dc1-1277ec6101ef",
   "metadata": {},
   "outputs": [],
   "source": [
    "import matplotlib.pyplot as plt\n",
    "import seaborn as sns\n",
    "sns.set_style('whitegrid')"
   ]
  },
  {
   "cell_type": "code",
   "execution_count": 26,
   "id": "26bca299-b59b-4673-b137-9aaa809e61f9",
   "metadata": {},
   "outputs": [
    {
     "data": {
      "image/png": "[encoded data removed]",
      "text/plain": [
       "<Figure size 640x480 with 1 Axes>"
      ]
     },
     "metadata": {},
     "output_type": "display_data"
    }
   ],
   "source": [
    "tmods = TrainedModel.fetch('output', 'comment', 'score', as_dict=True)\n",
    "fig = plt.figure()\n",
    "accs = []\n",
    "for idx, tmod1 in enumerate(tmods):\n",
    "    accs.append(tmod1['output'][0]) # loss\n",
    "    plt.plot(accs[-1], label=f'Trial_{idx}')\n",
    "plt.legend()\n",
    "plt.tight_layout()"
   ]
  },
  {
   "cell_type": "code",
   "execution_count": null,
   "id": "81192be5-3400-4ca4-b688-c2787736c9f5",
   "metadata": {},
   "outputs": [],
   "source": []
  }
 ],
 "metadata": {
  "kernelspec": {
   "display_name": "Python 3 (ipykernel)",
   "language": "python",
   "name": "python3"
  },
  "language_info": {
   "codemirror_mode": {
    "name": "ipython",
    "version": 3
   },
   "file_extension": ".py",
   "mimetype": "text/x-python",
   "name": "python",
   "nbconvert_exporter": "python",
   "pygments_lexer": "ipython3",
   "version": "3.10.12"
  }
 },
 "nbformat": 4,
 "nbformat_minor": 5
}
